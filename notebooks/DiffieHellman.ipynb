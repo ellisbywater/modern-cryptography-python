{
 "cells": [
  {
   "cell_type": "markdown",
   "source": [
    "# Diffie-Hellman Key Exchange\n",
    "\n",
    "Diffie-Hellman Key Exchange is \n"
   ],
   "metadata": {
    "collapsed": false
   },
   "id": "62392e65e5f664c3"
  },
  {
   "cell_type": "markdown",
   "source": [
    "Alice\n",
    "$(g^b mod p)^a$ = $(g^b)^a mod p$ = $g^(ab) mod p$\n",
    "\n",
    "Bob\n",
    "$(g^a mod p)^b$ = $(g^a)^b mod p$ = $g^(ab) mod p$"
   ],
   "metadata": {
    "collapsed": false
   },
   "id": "edd985899ca5fc2e"
  },
  {
   "cell_type": "code",
   "outputs": [
    {
     "name": "stdout",
     "output_type": "stream",
     "text": [
      "True\n",
      "True\n",
      "True\n",
      "False\n",
      "1229\n",
      "17183\n"
     ]
    }
   ],
   "source": [
    "# Implement a pseudo-random prime generator\n",
    "import math\n",
    "import random\n",
    "\n",
    "def is_prime(p: int):\n",
    "    for i in range(2, math.isqrt(p)):\n",
    "        if p % i == 0:\n",
    "            return False\n",
    "    return True\n",
    "\n",
    "print(is_prime(8))\n",
    "print(is_prime(7))\n",
    "print(is_prime(23))\n",
    "print(is_prime(46))\n",
    "\n",
    "def get_prime(size: int):\n",
    "    while True:\n",
    "        p = random.randrange(size, 2*size)\n",
    "        if is_prime(p):\n",
    "            return p\n",
    "        \n",
    "print(get_prime(1000))\n",
    "print(get_prime(10000))\n"
   ],
   "metadata": {
    "collapsed": false,
    "ExecuteTime": {
     "end_time": "2024-01-07T15:59:08.700235Z",
     "start_time": "2024-01-07T15:59:08.697369Z"
    }
   },
   "id": "d024beb15f8e9c00",
   "execution_count": 5
  },
  {
   "cell_type": "code",
   "outputs": [],
   "source": [],
   "metadata": {
    "collapsed": false
   },
   "id": "744bf5ffba612be1"
  }
 ],
 "metadata": {
  "kernelspec": {
   "display_name": "Python 3",
   "language": "python",
   "name": "python3"
  },
  "language_info": {
   "codemirror_mode": {
    "name": "ipython",
    "version": 2
   },
   "file_extension": ".py",
   "mimetype": "text/x-python",
   "name": "python",
   "nbconvert_exporter": "python",
   "pygments_lexer": "ipython2",
   "version": "2.7.6"
  }
 },
 "nbformat": 4,
 "nbformat_minor": 5
}
