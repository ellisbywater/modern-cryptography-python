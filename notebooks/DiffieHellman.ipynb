{
 "cells": [
  {
   "cell_type": "markdown",
   "source": [
    "# Diffie-Hellman Key Exchange\n",
    "\n",
    "Diffie-Hellman Key Exchange is \n"
   ],
   "metadata": {
    "collapsed": false
   },
   "id": "62392e65e5f664c3"
  },
  {
   "cell_type": "markdown",
   "source": [
    "Alice\n",
    "$(g^b mod p)^a$ = $(g^b)^a mod p$ = $g^(ab) mod p$\n",
    "\n",
    "Bob\n",
    "$(g^a mod p)^b$ = $(g^a)^b mod p$ = $g^(ab) mod p$"
   ],
   "metadata": {
    "collapsed": false
   },
   "id": "edd985899ca5fc2e"
  },
  {
   "cell_type": "code",
   "outputs": [
    {
     "name": "stdout",
     "output_type": "stream",
     "text": [
      "True\n",
      "True\n",
      "True\n",
      "False\n",
      "1423\n",
      "19483\n"
     ]
    }
   ],
   "source": [
    "# Implement a pseudo-random prime generator\n",
    "import math\n",
    "import random\n",
    "\n",
    "def is_prime(p: int):\n",
    "    for i in range(2, math.isqrt(p)):\n",
    "        if p % i == 0:\n",
    "            return False\n",
    "    return True\n",
    "\n",
    "print(is_prime(8))\n",
    "print(is_prime(7))\n",
    "print(is_prime(23))\n",
    "print(is_prime(46))\n",
    "\n",
    "def get_prime(size: int):\n",
    "    while True:\n",
    "        p = random.randrange(size, 2*size)\n",
    "        if is_prime(p):\n",
    "            return p\n",
    "        \n",
    "print(get_prime(1000))\n",
    "print(get_prime(10000))\n"
   ],
   "metadata": {
    "collapsed": false,
    "ExecuteTime": {
     "end_time": "2024-01-07T17:21:41.299892Z",
     "start_time": "2024-01-07T17:21:41.296168Z"
    }
   },
   "id": "d024beb15f8e9c00",
   "execution_count": 3
  },
  {
   "cell_type": "code",
   "outputs": [],
   "source": [
    "# Implement prime generators\n",
    "\n",
    "def is_generator(g, p):\n",
    "    for i in range(1, p-1):\n",
    "        if (g**i) % p == 1:\n",
    "            return False\n",
    "    return True\n",
    "\n",
    "    \n",
    "\n",
    "def get_generator(p: int):\n",
    "    for g in range(2, p):\n",
    "        if is_generator(g, p):\n",
    "            return g"
   ],
   "metadata": {
    "collapsed": false,
    "ExecuteTime": {
     "end_time": "2024-01-07T17:21:44.287076Z",
     "start_time": "2024-01-07T17:21:44.282792Z"
    }
   },
   "id": "744bf5ffba612be1",
   "execution_count": 4
  },
  {
   "cell_type": "code",
   "outputs": [
    {
     "name": "stdout",
     "output_type": "stream",
     "text": [
      "1433 3\n",
      "Alice: g_a ->  1088\n",
      "Bob: g_b ->  1067\n",
      "Alice g_ab ->  1159\n",
      "Bob g_ba ->  1159\n"
     ]
    }
   ],
   "source": [
    "# Diffie-Hellman\n",
    "\n",
    "p = get_prime(1000)\n",
    "g = get_generator(p)\n",
    "print(p, g)\n",
    "\n",
    "# Alice\n",
    "a = random.randrange(0, p)\n",
    "g_a = (g**a) % p\n",
    "# Alice send this out in public\n",
    "print(\"Alice: g_a -> \", g_a)\n",
    "\n",
    "# Bob\n",
    "b = random.randrange(0, p)\n",
    "g_b = (g**b) % p\n",
    "# Bob sends this out in the public\n",
    "print(\"Bob: g_b -> \", g_b)\n",
    "\n",
    "# Back to Alice\n",
    "g_ab = (g_b**a) % p\n",
    "print(\"Alice g_ab -> \", g_ab)\n",
    "\n",
    "# Back to Bob\n",
    "g_ba = (g_a**b) % p\n",
    "print(\"Bob g_ba -> \", g_ba)"
   ],
   "metadata": {
    "collapsed": false,
    "ExecuteTime": {
     "end_time": "2024-01-07T17:21:47.648398Z",
     "start_time": "2024-01-07T17:21:47.645270Z"
    }
   },
   "id": "f5aab2e5fdeb2152",
   "execution_count": 5
  },
  {
   "cell_type": "code",
   "outputs": [],
   "source": [],
   "metadata": {
    "collapsed": false
   },
   "id": "e82e22eb0783232b"
  }
 ],
 "metadata": {
  "kernelspec": {
   "display_name": "Python 3",
   "language": "python",
   "name": "python3"
  },
  "language_info": {
   "codemirror_mode": {
    "name": "ipython",
    "version": 2
   },
   "file_extension": ".py",
   "mimetype": "text/x-python",
   "name": "python",
   "nbconvert_exporter": "python",
   "pygments_lexer": "ipython2",
   "version": "2.7.6"
  }
 },
 "nbformat": 4,
 "nbformat_minor": 5
}
