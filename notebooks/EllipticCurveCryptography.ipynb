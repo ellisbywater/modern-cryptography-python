{
 "cells": [
  {
   "cell_type": "markdown",
   "source": [
    "# Elliptic Curve Cryptography\n",
    "<https://en.wikipedia.org/wiki/Elliptic-curve_cryptography>\n",
    "\n",
    "### Problems with RSA\n",
    " - RSA is based on the difficulty of factoring large integers\n",
    " - Quantum computers can factor large integers in polynomial time\n",
    " - Quantum computers can break RSA\n",
    " - Quantum computers can't break ECC\n",
    "  - factorization is the trapdoor function for RSA, but it has never been proven that factorization is hard.\n",
    " \n",
    "\n",
    "### Elliptic Curve\n",
    "Let $E$ be an elliptic curve defined over a finite field $F_p$ where $p$ is a prime number. The set of points on $E$ is defined as:\n",
    "$$E(F_p) = \\{(x,y) \\in F_p \\times F_p | y^2 = x^3 + ax + b\\} \\cup \\{\\mathcal{O}\\}$$\n",
    "where $a,b \\in F_p$ and $4a^3 + 27b^2 \\neq 0$.\n",
    "\n",
    "##### ....what?\n",
    "#### Explain Like I'm Five\n",
    " - $E$ is a curve defined over a finite field $F_p$ where $p$ is a prime number\n",
    " - $E$ is the set of points $(x,y)$ that satisfy the equation $y^2 = x^3 + ax + b$\n",
    " - $a$ and $b$ are constants that define the curve\n",
    " - $4a^3 + 27b^2 \\neq 0$ is a condition that ensures the curve is non-singular\n",
    " - $\\mathcal{O}$ is the point at infinity\n",
    "\n",
    "#### Point Addition\n",
    "Let $P$ and $Q$ be points on $E$ and let $R$ be the point at infinity. The point addition operation is defined as:\n",
    "$$P + Q = R$$\n",
    "where $R$ is the point on $E$ that intersects the line between $P$ and $Q$.\n",
    "#### Point Doubling\n",
    "Let $P$ be a point on $E$ and let $R$ be the point at infinity. The point doubling operation is defined as:\n",
    "$$P + P = R$$\n",
    "where $R$ is the point on $E$ that intersects the tangent line of $P$.\n",
    "\n"
   ],
   "metadata": {
    "collapsed": false
   },
   "id": "ec02f94e5e050911"
  },
  {
   "cell_type": "markdown",
   "source": [
    "#### Finding $X_3$ and $Y_3$\n",
    "Let $P = (x_1, y_1)$ and $Q = (x_2, y_2)$ be points on $E$ and let $R = (x_3, y_3)$ be the point at infinity. The point addition operation is defined as:\n",
    "$$x_3 = \\lambda^2 - x_1 - x_2$$\n",
    "$$y_3 = \\lambda(x_1 - x_3) - y_1$$\n",
    "where $\\lambda$ is defined as:\n",
    "$$\\lambda = \\frac{y_2 - y_1}{x_2 - x_1}$$\n"
   ],
   "metadata": {
    "collapsed": false
   },
   "id": "47821db176452a8b"
  },
  {
   "cell_type": "code",
   "outputs": [],
   "source": [
    "# A Simple implementation of Elliptic Curve Cryptography\n",
    "\n",
    "# A Point on the Curve\n",
    "class Point:\n",
    "    def __init__(self, x: int, y: int):\n",
    "        self.x = x\n",
    "        self.y = y\n",
    "    \n",
    "    def __str__(self):\n",
    "        return f\"({self.x}  -   {self.y})\"\n",
    "    \n",
    "    \n",
    "class SimpleEllipticCurve:\n",
    "    def __init__(self, a: int, b: int):\n",
    "        # y^2 = x^3 + ax + b\n",
    "        # Bitcoin - a = 0, b = 7 (y^2 = x^3 + 7)\n",
    "        self.a = a\n",
    "        self.b = b\n",
    "    \n",
    "    # Naive Point Addition\n",
    "    def point_addition(self, P: Point, Q: Point):\n",
    "        x1, y1 = P.x, P.y\n",
    "        x2, y2 = Q.x, Q.y\n",
    "        \n",
    "        if x1 == x2 and y1 == y2:\n",
    "            # Point Doubling\n",
    "            m = (3 * x1**2 + self.a) / (2 * y1)\n",
    "        else:\n",
    "            # Point Addition\n",
    "            m = (y2 - y1) / (x2 - x1)\n",
    "            \n",
    "        x3 = m**2 - x1 - x2\n",
    "        y3 = m * (x1 - x3) - y1\n",
    "        \n",
    "        return Point(x3, y3)\n",
    "    \n",
    "    \n",
    "print(SimpleEllipticCurve(0, 7).point_addition(Point(2, 5), Point(2, 5)))\n",
    "    \n",
    "    "
   ],
   "metadata": {
    "collapsed": false
   },
   "id": "f2a31882d2c77522",
   "execution_count": null
  },
  {
   "cell_type": "code",
   "outputs": [],
   "source": [],
   "metadata": {
    "collapsed": false
   },
   "id": "da5ad2b80f2f4c9c"
  }
 ],
 "metadata": {
  "kernelspec": {
   "display_name": "Python 3",
   "language": "python",
   "name": "python3"
  },
  "language_info": {
   "codemirror_mode": {
    "name": "ipython",
    "version": 2
   },
   "file_extension": ".py",
   "mimetype": "text/x-python",
   "name": "python",
   "nbconvert_exporter": "python",
   "pygments_lexer": "ipython2",
   "version": "2.7.6"
  }
 },
 "nbformat": 4,
 "nbformat_minor": 5
}
