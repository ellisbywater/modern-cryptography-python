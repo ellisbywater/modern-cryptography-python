{
 "cells": [
  {
   "cell_type": "markdown",
   "source": [
    "# Elliptic Curve Cryptography\n",
    "<https://en.wikipedia.org/wiki/Elliptic-curve_cryptography>\n",
    "\n",
    "### Problems with RSA\n",
    " - RSA is based on the difficulty of factoring large integers\n",
    " - Quantum computers can factor large integers in polynomial time\n",
    " - Quantum computers can break RSA\n",
    " - Quantum computers can't break ECC\n",
    "  - factorization is the trapdoor function for RSA, but it has never been proven that factorization is hard.\n",
    " \n",
    "\n",
    "### Elliptic Curve\n",
    "Let $E$ be an elliptic curve defined over a finite field $F_p$ where $p$ is a prime number. The set of points on $E$ is defined as:\n",
    "$$E(F_p) = \\{(x,y) \\in F_p \\times F_p | y^2 = x^3 + ax + b\\} \\cup \\{\\mathcal{O}\\}$$\n",
    "where $a,b \\in F_p$ and $4a^3 + 27b^2 \\neq 0$.\n",
    "\n",
    "##### ....what?\n",
    "#### Explain Like I'm Five\n",
    " - $E$ is a curve defined over a finite field $F_p$ where $p$ is a prime number\n",
    " - $E$ is the set of points $(x,y)$ that satisfy the equation $y^2 = x^3 + ax + b$\n",
    " - $a$ and $b$ are constants that define the curve\n",
    " - $4a^3 + 27b^2 \\neq 0$ is a condition that ensures the curve is non-singular\n",
    " - $\\mathcal{O}$ is the point at infinity\n",
    "\n",
    "#### Point Addition\n",
    "Let $P$ and $Q$ be points on $E$ and let $R$ be the point at infinity. The point addition operation is defined as:\n",
    "$$P + Q = R$$\n",
    "where $R$ is the point on $E$ that intersects the line between $P$ and $Q$.\n",
    "#### Point Doubling\n",
    "Let $P$ be a point on $E$ and let $R$ be the point at infinity. The point doubling operation is defined as:\n",
    "$$P + P = R$$\n",
    "where $R$ is the point on $E$ that intersects the tangent line of $P$.\n",
    "\n"
   ],
   "metadata": {
    "collapsed": false
   },
   "id": "ec02f94e5e050911"
  },
  {
   "cell_type": "markdown",
   "source": [
    "#### Finding $X_3$ and $Y_3$\n",
    "Let $P = (x_1, y_1)$ and $Q = (x_2, y_2)$ be points on $E$ and let $R = (x_3, y_3)$ be the point at infinity. The point addition operation is defined as:\n",
    "$$x_3 = \\lambda^2 - x_1 - x_2$$\n",
    "$$y_3 = \\lambda(x_1 - x_3) - y_1$$\n",
    "where $\\lambda$ is defined as:\n",
    "$$\\lambda = \\frac{y_2 - y_1}{x_2 - x_1}$$\n"
   ],
   "metadata": {
    "collapsed": false
   },
   "id": "47821db176452a8b"
  },
  {
   "cell_type": "code",
   "outputs": [
    {
     "name": "stdout",
     "output_type": "stream",
     "text": [
      "(1.077486403391414  -   -3.0415352829993516)\n"
     ]
    }
   ],
   "source": [
    "# A Simple implementation of Elliptic Curve Cryptography\n",
    "\n",
    "# A Point on the Curve\n",
    "class Point:\n",
    "    def __init__(self, x: int, y: int):\n",
    "        self.x = x\n",
    "        self.y = y\n",
    "    \n",
    "    def __str__(self):\n",
    "        return f\"({self.x}  -   {self.y})\"\n",
    "    \n",
    "    \n",
    "class SimpleEllipticCurve:\n",
    "    def __init__(self, a: int, b: int):\n",
    "        # y^2 = x^3 + ax + b\n",
    "        # Bitcoin - a = 0, b = 7 (y^2 = x^3 + 7)\n",
    "        self.a = a\n",
    "        self.b = b\n",
    "    \n",
    "    # Naive Point Addition\n",
    "    def point_addition(self, P: Point, Q: Point):\n",
    "        x1, y1 = P.x, P.y\n",
    "        x2, y2 = Q.x, Q.y\n",
    "        \n",
    "        if x1 == x2 and y1 == y2:\n",
    "            # Point Doubling\n",
    "            m = (3 * x1**2 + self.a) / (2 * y1)\n",
    "        else:\n",
    "            # Point Addition\n",
    "            m = (y2 - y1) / (x2 - x1)\n",
    "            \n",
    "        x3 = m**2 - x1 - x2\n",
    "        y3 = m * (x1 - x3) - y1\n",
    "        \n",
    "        return Point(x3, y3)\n",
    "    \n",
    "    # Double and Add Algorithm\n",
    "    # O(m) where m is the number of bits in k\n",
    "    def double_and_add(self, k: int, P: Point):\n",
    "        # Convert k to binary\n",
    "        k = bin(k)[3:]\n",
    "        \n",
    "        # Initialize R\n",
    "        R = Point(P.x, P.y)\n",
    "        \n",
    "        # For each bit in k from left to right\n",
    "        for bit in k:\n",
    "            # R = 2R\n",
    "            R = self.point_addition(R, R)\n",
    "            \n",
    "            # If the bit is 1, then R = R + P\n",
    "            if bit == '1':\n",
    "                R = self.point_addition(R, P)\n",
    "                \n",
    "        return R\n",
    "    \n",
    "    \n",
    "ecc = SimpleEllipticCurve(0, 7)\n",
    "P = Point(2, 4)\n",
    "print(ecc.double_and_add(21, P))\n",
    "    \n",
    "    "
   ],
   "metadata": {
    "collapsed": false,
    "ExecuteTime": {
     "end_time": "2024-01-08T18:59:04.419743Z",
     "start_time": "2024-01-08T18:59:04.416555Z"
    }
   },
   "id": "f2a31882d2c77522",
   "execution_count": 2
  },
  {
   "cell_type": "markdown",
   "source": [
    "# Double and Add Algorithm\n",
    "In elliptic curve cryptography, the double and add algorithm is used to calculate $kP$ where $k$ is a scalar and $P$ is a point on the curve. The algorithm is as follows:\n",
    " - Convert $k$ to binary\n",
    " - Initialize $R = \\mathcal{O}$\n",
    " - For each bit in $k$ from left to right:\n",
    "  - $R = 2R$\n",
    "  - If the bit is $1$, then $R = R + P$\n",
    " - Return $R$"
   ],
   "metadata": {
    "collapsed": false
   },
   "id": "42db1ed9ab0ef0f3"
  },
  {
   "cell_type": "code",
   "outputs": [
    {
     "name": "stdout",
     "output_type": "stream",
     "text": [
      "(5.972713090756081  -   -14.8683017134625)\n",
      "(5.9727189164285726  -   -14.868322679815325)\n"
     ]
    }
   ],
   "source": [
    "# Elliptic Curve Cryptography Diffie-Hellman Key Exchange\n",
    "import random\n",
    "\n",
    "generator = Point(2, 4)\n",
    "\n",
    "alice_random = random.randint(2, 1e4)\n",
    "bob_random = random.randint(2, 1e4)\n",
    "\n",
    "# public keys with double and add\n",
    "alice_public_key = ecc.double_and_add(alice_random, generator)\n",
    "bob_public_key = ecc.double_and_add(bob_random, generator)\n",
    "\n",
    "# shared secret with double and add\n",
    "alice_shared_secret = ecc.double_and_add(alice_random, bob_public_key)\n",
    "bob_shared_secret = ecc.double_and_add(bob_random, alice_public_key)\n",
    "\n",
    "print(alice_shared_secret)\n",
    "print(bob_shared_secret)\n"
   ],
   "metadata": {
    "collapsed": false,
    "ExecuteTime": {
     "end_time": "2024-01-08T18:59:04.426567Z",
     "start_time": "2024-01-08T18:59:04.421533Z"
    }
   },
   "id": "670c273e88f71bfc",
   "execution_count": 3
  },
  {
   "cell_type": "code",
   "outputs": [],
   "source": [
    "\n",
    "\n"
   ],
   "metadata": {
    "collapsed": false,
    "ExecuteTime": {
     "end_time": "2024-01-08T18:59:04.428861Z",
     "start_time": "2024-01-08T18:59:04.425216Z"
    }
   },
   "id": "61f769de3b872672",
   "execution_count": 3
  },
  {
   "cell_type": "code",
   "outputs": [],
   "source": [],
   "metadata": {
    "collapsed": false,
    "ExecuteTime": {
     "end_time": "2024-01-08T18:59:04.430974Z",
     "start_time": "2024-01-08T18:59:04.428509Z"
    }
   },
   "id": "42fd3fe0087d1b7d",
   "execution_count": 3
  }
 ],
 "metadata": {
  "kernelspec": {
   "display_name": "Python 3",
   "language": "python",
   "name": "python3"
  },
  "language_info": {
   "codemirror_mode": {
    "name": "ipython",
    "version": 2
   },
   "file_extension": ".py",
   "mimetype": "text/x-python",
   "name": "python",
   "nbconvert_exporter": "python",
   "pygments_lexer": "ipython2",
   "version": "2.7.6"
  }
 },
 "nbformat": 4,
 "nbformat_minor": 5
}
