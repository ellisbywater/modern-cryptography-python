{
 "cells": [
  {
   "cell_type": "markdown",
   "source": [
    "# Frequency Analysis\n",
    "\n",
    "Frequency analysis is a method used to determine the most common letters in a ciphertext. The most common letters in English are E, T, A, O, I, N, S, H, R, D, L, U. The most common letters in the ciphertext are likely to be the most common letters in the plaintext.\n",
    "\n"
   ],
   "metadata": {
    "collapsed": false
   },
   "id": "3d15eb764fa93e90"
  },
  {
   "cell_type": "code",
   "outputs": [],
   "source": [
    "# Frequency analysis\n",
    "\n",
    "cipher = \"\"\"lrvmnir bpr sumvbwvr jx bpr lmiwv yjeryrkbi jx qmbm wi\n",
    "bpr xjvni mkd ymibrut jx irhx wi bpr riirkvr jx\n",
    "ymbinlmtmipw utn qmumbr dj w ipmhh but bj rhnvwdmbr bpr\n",
    "yjeryrkbi jx bpr qmbm mvvjudwko bj yt wkbrusurbmbwjk\n",
    "lmird jk xjubt trmui jx ibndt\n",
    "  wb wi kjb mk rmit bmiq bj rashmwk rmvp yjeryrkb mkd wbi\n",
    "iwokwxwvmkvr mkd ijyr ynib urymwk nkrashmwkrd bj ower m\n",
    "vjyshrbr rashmkmbwjk jkr cjnhd pmer bj lr fnmhwxwrd mkd\n",
    "wkiswurd bj invp mk rabrkb bpmb pr vjnhd urmvp bpr ibmbr\n",
    "jx rkhwopbrkrd ywkd vmsmlhr jx urvjokwgwko ijnkdhrii\n",
    "ijnkd mkd ipmsrhrii ipmsr w dj kjb drry ytirhx bpr xwkmh\n",
    "mnbpjuwbt lnb yt rasruwrkvr cwbp qmbm pmi hrxb kj djnlb\n",
    "bpmb bpr xjhhjcwko wi bpr sujsru msshwvmbwjk mkd\n",
    "wkbrusurbmbwjk w jxxru yt bprjuwri wk bpr pjsr bpmb bpr\n",
    "riirkvr jx jqwkmcmk qmumbr cwhh urymwk wkbmvb\"\"\"\n",
    "\n",
    "alphabet = 'abcdefghijklmnopqrstuvwxyz'\n",
    "\n",
    "\n",
    "letter_freq = {'a': 0.0817, 'b': 0.0150, 'c': 0.0278, 'd': 0.0425, 'e': 0.1270, 'f': 0.0223,\n",
    "               'g': 0.0202, 'h': 0.0609, 'i': 0.0697, 'j': 0.0015, 'k': 0.0077, 'l': 0.0403,\n",
    "               'm': 0.0241, 'n': 0.0675, 'o': 0.0751, 'p': 0.0193, 'q': 0.0010, 'r': 0.0599,\n",
    "               's': 0.0633, 't': 0.0906, 'u': 0.0276, 'v': 0.0098, 'w': 0.0236, 'x': 0.0015,\n",
    "               'y': 0.0197, 'z': 0.0007}\n"
   ],
   "metadata": {
    "collapsed": false,
    "ExecuteTime": {
     "end_time": "2024-01-07T02:30:07.048430Z",
     "start_time": "2024-01-07T02:30:07.044564Z"
    }
   },
   "id": "e50b4ed5290e4382",
   "execution_count": 3
  },
  {
   "cell_type": "code",
   "outputs": [],
   "source": [
    "# Count the frequency of each letter in the ciphertext\n",
    "# and store in a dictionary\n",
    "class FA:\n",
    "    def __init__(self, cipher: str):\n",
    "        self.alphabet: str = 'abcdefghijklmnopqrstuvwxyz'\n",
    "        self.freq: dict = {}\n",
    "        self.char_count: int = 0\n",
    "        self.cipher: str = cipher\n",
    "    \n",
    "    def calculate_freq(self) -> dict:\n",
    "        for char in self.alphabet:\n",
    "            self.freq[char] = 0\n",
    "            \n",
    "        for char in self.cipher:\n",
    "            if char in self.alphabet:\n",
    "                self.freq[char] += 1\n",
    "                self.char_count += 1\n",
    "        \n",
    "        for char in self.freq:\n",
    "            self.freq[char] = round(self.freq[char] / self.char_count, 4)\n",
    "            \n",
    "        return self.freq\n",
    "    \n",
    "    def print_freq(self):\n",
    "        for char in self.freq:\n",
    "            print(char, self.freq[char])  \n",
    "    \n",
    "    #TODO: find the most common letter in the ciphertext\n",
    "    def find_most_common(self):\n",
    "        if self.freq == {}:\n",
    "            self.calculate_freq()\n",
    "        pass\n",
    "            "
   ],
   "metadata": {
    "collapsed": false
   },
   "id": "2556057be8270170"
  },
  {
   "cell_type": "code",
   "outputs": [],
   "source": [
    "\n",
    "fa = FA(cipher)\n",
    "freq = fa.calculate_freq()\n",
    "fa.print_freq()"
   ],
   "metadata": {
    "collapsed": false
   },
   "id": "a8ef54148f6becb8"
  },
  {
   "cell_type": "code",
   "outputs": [],
   "source": [],
   "metadata": {
    "collapsed": false
   },
   "id": "46c1e22ddb3ceaf7"
  }
 ],
 "metadata": {
  "kernelspec": {
   "display_name": "Python 3",
   "language": "python",
   "name": "python3"
  },
  "language_info": {
   "codemirror_mode": {
    "name": "ipython",
    "version": 2
   },
   "file_extension": ".py",
   "mimetype": "text/x-python",
   "name": "python",
   "nbconvert_exporter": "python",
   "pygments_lexer": "ipython2",
   "version": "2.7.6"
  }
 },
 "nbformat": 4,
 "nbformat_minor": 5
}
