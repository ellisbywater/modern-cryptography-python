{
 "cells": [
  {
   "cell_type": "markdown",
   "source": [
    "# Modular Arithmetic\n",
    "\n",
    "#### Finding Prime Numbers\n",
    "1. **naive algorithm**: consider all the numbers in the range $[2,N-1]$ and if the given number divides $N$ then $N$ is not a prime. Basically, consider the numbers within the range $[2,\\sqrt{N}]$. Every $N$ composite number (**not** prime) has a prime factor less than or equal to its $\\sqrt{N}$.\n",
    "   - **PROOF**: If a $N$ number is **not** a prime then it can be factored $N = a * b (2 < a, b < N)$. If both $a$ and $b$ were greater than $\\sqrt{N}$ then $a * b$ would be greater than $N$, therefore at least either $a$ or $b$ is less than $\\sqrt{N}$."
   ],
   "metadata": {
    "collapsed": false
   },
   "id": "62392e65e5f664c3"
  },
  {
   "cell_type": "markdown",
   "source": [
    "Alice\n",
    "$(g^b \\bmod p)^a$ = $(g^b)^a \\bmod p$ = $g^(ab) \\bmod p$\n",
    "\n",
    "Bob\n",
    "$(g^a \\bmod p)^b$ = $(g^a)^b \\bmod p$ = $g^(ab) \\bmod p$"
   ],
   "metadata": {
    "collapsed": false
   },
   "id": "edd985899ca5fc2e"
  },
  {
   "cell_type": "code",
   "outputs": [
    {
     "name": "stdout",
     "output_type": "stream",
     "text": [
      "True\n",
      "True\n",
      "True\n",
      "False\n",
      "1423\n",
      "19483\n"
     ]
    }
   ],
   "source": [
    "# Naive implementation of a prime\n",
    "from math import sqrt,isqrt,floor\n",
    "import random\n",
    "\n",
    "def naive_is_prime(p: int):\n",
    "    if p < 2:\n",
    "        return False\n",
    "    if p == 2:\n",
    "        return True\n",
    "    if p % 2 == 0:\n",
    "        return False\n",
    "    for i in range(3, floor(sqrt(p)) + 1, 2):\n",
    "        if p % i == 0:\n",
    "            return False\n",
    "    return True\n",
    "\n",
    "print(naive_is_prime(8))\n",
    "print(naive_is_prime(7))\n",
    "print(naive_is_prime(23))\n",
    "print(naive_is_prime(46))\n",
    "\n",
    "\n"
   ],
   "metadata": {
    "collapsed": false,
    "ExecuteTime": {
     "end_time": "2024-01-07T17:21:41.299892Z",
     "start_time": "2024-01-07T17:21:41.296168Z"
    }
   },
   "id": "d024beb15f8e9c00",
   "execution_count": 3
  },
  {
   "cell_type": "markdown",
   "source": [
    "#### Running time complexity\n",
    "Finding primes up to $N$ we just have to check numbers up to $\\sqrt{N}$. But we are measuring bit size not the lenght of an iterable. $N$ is the number of bits in the input. It means that $O(\\sqrt{N})$ is in fact $O(2^{n/2})$.\n",
    "\n",
    "\n",
    "\n",
    "\n",
    "\n",
    "\n",
    "#### A better approach to finding prime numbers\n",
    "**Fermat's Algorithm**: We can use Fermat's little theorem to check whether a given $N$ number if prime or not. $a^{N-1}=1(\\bmod N)$. If this relation is true, then $N$ is prime.\n",
    "\n",
    "If $N$ is a prime then for every $1 <= a < N$ number, $a^{N-1}=1(\\bmod N)$ which means $a^{N-1}\\%N=1$\n",
    "\n",
    "**For Example** since $5$ is prime thats why $2^4\\%5=1$ so $5$ is prime. Running time complexity: $O(k log^3 n)$\n",
    "***Fermat's Algorithm is probabilistic***\n",
    "\n",
    "Repeat $k$ times. Generate $a$ random number in the range $[2,N-2]$. If $a^{N-1}\\%N=1$ then $N$ is probably prime.\n",
    "\n",
    "\n"
   ],
   "metadata": {
    "collapsed": false
   },
   "id": "f9ea1dddb255f86a"
  },
  {
   "cell_type": "code",
   "outputs": [],
   "source": [
    "# Fermat's Algorithm \n",
    "import random\n",
    "\n",
    "def fermat_is_prime(n: int, k = 10):\n",
    "    if n <= 1:\n",
    "        return False\n",
    "    \n",
    "    # Fermat's primality test is probabilistic: the more k iterations the higher the probability the given number is prime\n",
    "    for _ in range(k):\n",
    "        # generate a random number [2, N-1]\n",
    "        a = random.randrange(2,n) - 1\n",
    "        # if a^n-1%n != 1 then n is not a prime\n",
    "        if pow(a, n, n) != 1:\n",
    "            return False\n",
    "    # after k iterations we come to the conclusion that n is prime\n",
    "    return True\n",
    "\n",
    "print(fermat_is_prime(99919))"
   ],
   "metadata": {
    "collapsed": false,
    "ExecuteTime": {
     "end_time": "2024-01-07T21:19:02.916864Z",
     "start_time": "2024-01-07T21:19:02.914804Z"
    }
   },
   "id": "851900ab84140b67",
   "execution_count": 7
  },
  {
   "cell_type": "code",
   "outputs": [
    {
     "ename": "NameError",
     "evalue": "name 'naive_is_prime' is not defined",
     "output_type": "error",
     "traceback": [
      "\u001B[0;31m---------------------------------------------------------------------------\u001B[0m",
      "\u001B[0;31mNameError\u001B[0m                                 Traceback (most recent call last)",
      "Cell \u001B[0;32mIn[6], line 9\u001B[0m\n\u001B[1;32m      6\u001B[0m         \u001B[38;5;28;01mif\u001B[39;00m naive_is_prime(p):\n\u001B[1;32m      7\u001B[0m             \u001B[38;5;28;01mreturn\u001B[39;00m p\n\u001B[0;32m----> 9\u001B[0m \u001B[38;5;28mprint\u001B[39m(\u001B[43mget_prime\u001B[49m\u001B[43m(\u001B[49m\u001B[38;5;241;43m1000\u001B[39;49m\u001B[43m)\u001B[49m)\n\u001B[1;32m     10\u001B[0m \u001B[38;5;28mprint\u001B[39m(get_prime(\u001B[38;5;241m10000\u001B[39m))\n\u001B[1;32m     12\u001B[0m \u001B[38;5;28;01mdef\u001B[39;00m \u001B[38;5;21mis_generator\u001B[39m(g, p):\n",
      "Cell \u001B[0;32mIn[6], line 6\u001B[0m, in \u001B[0;36mget_prime\u001B[0;34m(size)\u001B[0m\n\u001B[1;32m      4\u001B[0m \u001B[38;5;28;01mwhile\u001B[39;00m \u001B[38;5;28;01mTrue\u001B[39;00m:\n\u001B[1;32m      5\u001B[0m     p \u001B[38;5;241m=\u001B[39m random\u001B[38;5;241m.\u001B[39mrandrange(size, \u001B[38;5;241m2\u001B[39m\u001B[38;5;241m*\u001B[39msize)\n\u001B[0;32m----> 6\u001B[0m     \u001B[38;5;28;01mif\u001B[39;00m \u001B[43mnaive_is_prime\u001B[49m(p):\n\u001B[1;32m      7\u001B[0m         \u001B[38;5;28;01mreturn\u001B[39;00m p\n",
      "\u001B[0;31mNameError\u001B[0m: name 'naive_is_prime' is not defined"
     ]
    }
   ],
   "source": [
    "\n",
    "# Implement prime generators\n",
    "\n",
    "def get_prime(size: int):\n",
    "    while True:\n",
    "        p = random.randrange(size, 2*size)\n",
    "        if naive_is_prime(p):\n",
    "            return p\n",
    "        \n",
    "print(get_prime(1000))\n",
    "print(get_prime(10000))\n",
    "\n",
    "def is_generator(g, p):\n",
    "    for i in range(1, p-1):\n",
    "        if (g**i) % p == 1:\n",
    "            return False\n",
    "    return True\n",
    "\n",
    "    \n",
    "\n",
    "def get_generator(p: int):\n",
    "    for g in range(2, p):\n",
    "        if is_generator(g, p):\n",
    "            return g"
   ],
   "metadata": {
    "collapsed": false,
    "ExecuteTime": {
     "end_time": "2024-01-07T20:39:31.748178Z",
     "start_time": "2024-01-07T20:39:31.726943Z"
    }
   },
   "id": "744bf5ffba612be1",
   "execution_count": 6
  },
  {
   "cell_type": "code",
   "outputs": [
    {
     "name": "stdout",
     "output_type": "stream",
     "text": [
      "1433 3\n",
      "Alice: g_a ->  1088\n",
      "Bob: g_b ->  1067\n",
      "Alice g_ab ->  1159\n",
      "Bob g_ba ->  1159\n"
     ]
    }
   ],
   "source": [
    "# Diffie-Hellman\n",
    "\n",
    "p = get_prime(1000)\n",
    "g = get_generator(p)\n",
    "print(p, g)\n",
    "\n",
    "# Alice\n",
    "a = random.randrange(0, p)\n",
    "g_a = (g**a) % p\n",
    "# Alice send this out in public\n",
    "print(\"Alice: g_a -> \", g_a)\n",
    "\n",
    "# Bob\n",
    "b = random.randrange(0, p)\n",
    "g_b = (g**b) % p\n",
    "# Bob sends this out in the public\n",
    "print(\"Bob: g_b -> \", g_b)\n",
    "\n",
    "# Back to Alice\n",
    "g_ab = (g_b**a) % p\n",
    "print(\"Alice g_ab -> \", g_ab)\n",
    "\n",
    "# Back to Bob\n",
    "g_ba = (g_a**b) % p\n",
    "print(\"Bob g_ba -> \", g_ba)"
   ],
   "metadata": {
    "collapsed": false,
    "ExecuteTime": {
     "end_time": "2024-01-07T17:21:47.648398Z",
     "start_time": "2024-01-07T17:21:47.645270Z"
    }
   },
   "id": "f5aab2e5fdeb2152",
   "execution_count": 5
  },
  {
   "cell_type": "code",
   "outputs": [],
   "source": [],
   "metadata": {
    "collapsed": false
   },
   "id": "e82e22eb0783232b"
  }
 ],
 "metadata": {
  "kernelspec": {
   "display_name": "Python 3",
   "language": "python",
   "name": "python3"
  },
  "language_info": {
   "codemirror_mode": {
    "name": "ipython",
    "version": 2
   },
   "file_extension": ".py",
   "mimetype": "text/x-python",
   "name": "python",
   "nbconvert_exporter": "python",
   "pygments_lexer": "ipython2",
   "version": "2.7.6"
  }
 },
 "nbformat": 4,
 "nbformat_minor": 5
}
