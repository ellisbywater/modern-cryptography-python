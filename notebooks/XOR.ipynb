{
 "cells": [
  {
   "cell_type": "markdown",
   "source": [
    "# One Time Pad\n",
    "# ------------\n",
    "\n",
    "One time pad is a simple encryption scheme that is perfectly secure. It is based on the XOR operation. The idea is that you have a key that is as long as the message. You XOR the key with the message to get the ciphertext. To decrypt, you XOR the ciphertext with the key. The key is used only once and is never reused. The key must be truly random and must be as long as the message. The key must be kept secret. The key must be shared between the sender and the receiver. The key must be used only once. The key must be destroyed after use.\n"
   ],
   "metadata": {
    "collapsed": false
   },
   "id": "8fd0b765f515ad2b"
  },
  {
   "cell_type": "code",
   "outputs": [
    {
     "name": "stdout",
     "output_type": "stream",
     "text": [
      "4  XOR  8  =  12\n",
      "binary:  0b100  XOR  0b1000  =  0b1100\n",
      "/n\n",
      "4  XOR  4  =  0\n",
      "binary:  0b100  XOR  0b100  =  0b0\n",
      "/n\n",
      "255  XOR  1  =  254\n",
      "binary:  0b11111111  XOR  0b1  =  0b11111110\n",
      "/n\n",
      "255  XOR  128  =  127\n",
      "binary:  0b11111111  XOR  0b10000000  =  0b1111111\n",
      "/n\n"
     ]
    }
   ],
   "source": [
    "def xor(x, s):\n",
    "    print(x, \" XOR \", s, \" = \", x ^ s)\n",
    "    print(\"binary: \", bin(x), \" XOR \", bin(s), \" = \", bin(x ^ s))\n",
    "    print(\"/n\")\n",
    "\n",
    "xor(4, 8)\n",
    "xor(4, 4)\n",
    "xor(255, 1)\n",
    "xor(255, 128)"
   ],
   "metadata": {
    "collapsed": false,
    "ExecuteTime": {
     "end_time": "2024-01-07T02:55:06.004531Z",
     "start_time": "2024-01-07T02:55:06.002055Z"
    }
   },
   "id": "4bca80a9fc9985df",
   "execution_count": 1
  },
  {
   "cell_type": "code",
   "outputs": [],
   "source": [],
   "metadata": {
    "collapsed": false
   },
   "id": "e0b7060bcc5b0dc6"
  }
 ],
 "metadata": {
  "kernelspec": {
   "display_name": "Python 3",
   "language": "python",
   "name": "python3"
  },
  "language_info": {
   "codemirror_mode": {
    "name": "ipython",
    "version": 2
   },
   "file_extension": ".py",
   "mimetype": "text/x-python",
   "name": "python",
   "nbconvert_exporter": "python",
   "pygments_lexer": "ipython2",
   "version": "2.7.6"
  }
 },
 "nbformat": 4,
 "nbformat_minor": 5
}
