{
 "cells": [
  {
   "cell_type": "markdown",
   "source": [
    "# Caesar's Cipher\n",
    "\n",
    "\n",
    "\n",
    "## Problem Statement\n",
    "\n",
    "\n",
    "Julius Caesar protected his confidential information by encrypting it using a cipher. Caesar's cipher shifts each letter by a number of letters. If the shift takes you past the end of the alphabet, just rotate back to the front of the alphabet. In the case of a rotation by 3, w, x, y and z would map to z, a, b and c.\n",
    "\n",
    "\n",
    "Alice wants to send a message to Bob which is encrypted using Caesar's Cipher. A Caesar cipher shifts each letter in the plaintext message by a certain number of places. For example, a shift of 1 would mean A becomes B, B becomes C, C becomes D, and so on. If necessary, the shifting wraps around back to the beginning, so that Z becomes A.\n",
    "\n",
    "\n",
    "\n",
    "###### Original alphabet:  abcdefghijklmnopqrstuvwxyz\n",
    "###### Alphabet rotated +3:  defghijklmnopqrstuvwxyzabc\n",
    "\n",
    "\n",
    "\n",
    "For example you catch this message.\n",
    "\n",
    "```\n",
    "BRX DUH BRXUH ZHOO DV ZHOO\n",
    "```\n",
    "\n",
    "\n",
    "Which was encrypted using Caesar's Cipher with a shift of 3.\n",
    "The decrypted message would be.\n",
    "\n",
    "```\n",
    "you are you are so you\n",
    "```\n",
    "\n",
    "\n"
   ],
   "metadata": {
    "collapsed": false
   },
   "id": "5f5a05e7e204ebe"
  },
  {
   "cell_type": "code",
   "outputs": [
    {
     "name": "stdout",
     "output_type": "stream",
     "text": [
      "{'A': 'D', 'B': 'E', 'C': 'F', 'D': 'G', 'E': 'H', 'F': 'I', 'G': 'J', 'H': 'K', 'I': 'L', 'J': 'M', 'K': 'N', 'L': 'O', 'M': 'P', 'N': 'Q', 'O': 'R', 'P': 'S', 'Q': 'T', 'R': 'U', 'S': 'V', 'T': 'W', 'U': 'X', 'V': 'Y', 'W': 'Z', 'X': 'A', 'Y': 'B', 'Z': 'C'}\n"
     ]
    }
   ],
   "source": [
    "letters: str = 'abcdefghijklmnopqrstuvwxyz'\n",
    "def generate_key(n: int, characters: str):\n",
    "    characters = characters.upper()\n",
    "    key: dict = {}\n",
    "    count: int = 0\n",
    "    for c in characters:\n",
    "        key[c] = characters[(count + n) % len(characters)]\n",
    "        count += 1\n",
    "    return key\n",
    "    \n",
    "key = generate_key(3, letters)\n",
    "print(key)"
   ],
   "metadata": {
    "collapsed": false,
    "ExecuteTime": {
     "end_time": "2024-01-06T20:21:03.360522Z",
     "start_time": "2024-01-06T20:21:03.356109Z"
    }
   },
   "id": "ef06810bf596dbfd",
   "execution_count": 2
  },
  {
   "cell_type": "code",
   "outputs": [
    {
     "name": "stdout",
     "output_type": "stream",
     "text": [
      "BRX DUH DZHVRPH\n"
     ]
    }
   ],
   "source": [
    "# Encryption\n",
    "def encrypt(key: dict, message: str):\n",
    "    msg = message.upper()\n",
    "    cipher: str = \"\"\n",
    "    for c in msg:\n",
    "        if c in key:\n",
    "            cipher += key[c]\n",
    "        else:\n",
    "            cipher += c\n",
    "    return cipher\n",
    "\n",
    "key = generate_key(3, letters)\n",
    "message: str = \"YOU ARE AWESOME\"\n",
    "encrypted_message = encrypt(key, message)\n",
    "print(encrypted_message)"
   ],
   "metadata": {
    "collapsed": false,
    "ExecuteTime": {
     "end_time": "2024-01-06T20:21:04.614725Z",
     "start_time": "2024-01-06T20:21:04.611242Z"
    }
   },
   "id": "abaf3eb4a388785d",
   "execution_count": 3
  },
  {
   "cell_type": "code",
   "outputs": [
    {
     "name": "stdout",
     "output_type": "stream",
     "text": [
      "{'D': 'A', 'E': 'B', 'F': 'C', 'G': 'D', 'H': 'E', 'I': 'F', 'J': 'G', 'K': 'H', 'L': 'I', 'M': 'J', 'N': 'K', 'O': 'L', 'P': 'M', 'Q': 'N', 'R': 'O', 'S': 'P', 'T': 'Q', 'U': 'R', 'V': 'S', 'W': 'T', 'X': 'U', 'Y': 'V', 'Z': 'W', 'A': 'X', 'B': 'Y', 'C': 'Z'}\n"
     ]
    }
   ],
   "source": [
    "# Generate Decryption Map\n",
    "def get_decryption_key(enkey: dict):\n",
    "    dkey: dict = {}\n",
    "    for c in enkey:\n",
    "        dkey[enkey[c]] = c\n",
    "    return dkey\n",
    "\n",
    "deckey = get_decryption_key(key)\n",
    "print(deckey)"
   ],
   "metadata": {
    "collapsed": false,
    "ExecuteTime": {
     "end_time": "2024-01-06T20:21:05.629854Z",
     "start_time": "2024-01-06T20:21:05.625597Z"
    }
   },
   "id": "329edda4669cb41b",
   "execution_count": 4
  },
  {
   "cell_type": "code",
   "outputs": [
    {
     "name": "stdout",
     "output_type": "stream",
     "text": [
      "YOU ARE AWESOME\n"
     ]
    }
   ],
   "source": [
    "# Decrypt\n",
    "\n",
    "decrypted_message = encrypt(deckey, encrypted_message)\n",
    "print(decrypted_message)"
   ],
   "metadata": {
    "collapsed": false,
    "ExecuteTime": {
     "end_time": "2024-01-06T20:21:06.748983Z",
     "start_time": "2024-01-06T20:21:06.745819Z"
    }
   },
   "id": "bfdff6cf316e0134",
   "execution_count": 5
  },
  {
   "cell_type": "markdown",
   "source": [
    "### Kerckhoff's Principle\n",
    "Caesar's cipher fails Kerckhoff's principle because it relies on the secrecy of the algorithm. The only thing that should be secret is the key. The algorithm should be public. This is known as Kerckhoff's principle. The algorithm should be public and the key should be private. The algorithm should be able to be analyzed and tested for weaknesses.\n",
    "\n",
    "In the case of Caesar's cipher, the algorithm is the shift. If the shift is known, the cipher can be broken. The key is the number of characters to shift which is a maximum of 26.\n",
    "\n",
    "So brute force is possible. Try all 26 shifts and see which one makes sense. This is known as a brute force attack. It is possible to do this because the algorithm is known."
   ],
   "metadata": {
    "collapsed": false
   },
   "id": "d7af139622786463"
  },
  {
   "cell_type": "code",
   "outputs": [
    {
     "name": "stdout",
     "output_type": "stream",
     "text": [
      "BRX DUH DZHVRPH\n",
      "CSY EVI EAIWSQI\n",
      "DTZ FWJ FBJXTRJ\n",
      "EUA GXK GCKYUSK\n",
      "FVB HYL HDLZVTL\n",
      "GWC IZM IEMAWUM\n",
      "HXD JAN JFNBXVN\n",
      "IYE KBO KGOCYWO\n",
      "JZF LCP LHPDZXP\n",
      "KAG MDQ MIQEAYQ\n",
      "LBH NER NJRFBZR\n",
      "MCI OFS OKSGCAS\n",
      "NDJ PGT PLTHDBT\n",
      "OEK QHU QMUIECU\n",
      "PFL RIV RNVJFDV\n",
      "QGM SJW SOWKGEW\n",
      "RHN TKX TPXLHFX\n",
      "SIO ULY UQYMIGY\n",
      "TJP VMZ VRZNJHZ\n",
      "UKQ WNA WSAOKIA\n",
      "VLR XOB XTBPLJB\n",
      "WMS YPC YUCQMKC\n",
      "XNT ZQD ZVDRNLD\n",
      "YOU ARE AWESOME\n",
      "ZPV BSF BXFTPNF\n",
      "AQW CTG CYGUQOG\n"
     ]
    }
   ],
   "source": [
    "# Brute Force Attack\n",
    "for i in range(26):\n",
    "    key = generate_key(i, letters)\n",
    "    decrypted_message = encrypt(key, encrypted_message)\n",
    "    print(decrypted_message)"
   ],
   "metadata": {
    "collapsed": false,
    "ExecuteTime": {
     "end_time": "2024-01-06T20:21:09.447211Z",
     "start_time": "2024-01-06T20:21:09.445082Z"
    }
   },
   "id": "eb5de7dda954cf51",
   "execution_count": 6
  },
  {
   "cell_type": "code",
   "outputs": [],
   "source": [],
   "metadata": {
    "collapsed": false
   },
   "id": "e4f812bfd03ccc97"
  }
 ],
 "metadata": {
  "kernelspec": {
   "display_name": "Python 3",
   "language": "python",
   "name": "python3"
  },
  "language_info": {
   "codemirror_mode": {
    "name": "ipython",
    "version": 2
   },
   "file_extension": ".py",
   "mimetype": "text/x-python",
   "name": "python",
   "nbconvert_exporter": "python",
   "pygments_lexer": "ipython2",
   "version": "2.7.6"
  }
 },
 "nbformat": 4,
 "nbformat_minor": 5
}
