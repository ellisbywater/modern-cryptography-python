{
 "cells": [
  {
   "cell_type": "markdown",
   "source": [
    "# Permutations\n"
   ],
   "metadata": {
    "collapsed": false
   },
   "id": "6a953b4f6f9ba1f1"
  },
  {
   "cell_type": "code",
   "outputs": [],
   "source": [
    "# With Python's itertools.permutations()\n",
    "from itertools import permutations\n",
    "\n",
    "my_list = [1, 2, 3]\n",
    "permutations_list = list(permutations(my_list))\n",
    "\n",
    "print(permutations_list)"
   ],
   "metadata": {
    "collapsed": false
   },
   "id": "e5d1d012488c8b9e",
   "execution_count": null
  },
  {
   "cell_type": "code",
   "outputs": [],
   "source": [
    "# Permutations with recursion\n",
    "def faculty(n):\n",
    "    if n <= 1:\n",
    "        return 1\n",
    "    else:\n",
    "        return faculty(n-1) * n\n",
    "    \n",
    "# Let us plot it    \n",
    "import matplotlib.pyplot as plt\n",
    "xaxis = []\n",
    "yaxis = []\n",
    "diffaxis = [0]\n",
    "for i in range(0,6):\n",
    "    xaxis.append(i)\n",
    "    fac = faculty(i)\n",
    "    yaxis.append(fac)\n",
    "    print(i)\n",
    "    if i >= 1:\n",
    "        diffaxis.append(fac - yaxis[i-1])\n",
    "\n",
    "perms = plt.plot(xaxis, yaxis, label='Permutations')\n",
    "perms_diff = plt.stem(xaxis, diffaxis, label='Exponential difference')\n",
    "plt.legend()\n"
   ],
   "metadata": {
    "collapsed": false
   },
   "id": "fb9d52399c98c02d",
   "execution_count": null
  },
  {
   "cell_type": "code",
   "outputs": [],
   "source": [
    "import cProfile\n",
    "\n"
   ],
   "metadata": {
    "collapsed": false
   },
   "id": "6cac5138c7446264"
  }
 ],
 "metadata": {
  "kernelspec": {
   "display_name": "Python 3",
   "language": "python",
   "name": "python3"
  },
  "language_info": {
   "codemirror_mode": {
    "name": "ipython",
    "version": 2
   },
   "file_extension": ".py",
   "mimetype": "text/x-python",
   "name": "python",
   "nbconvert_exporter": "python",
   "pygments_lexer": "ipython2",
   "version": "2.7.6"
  }
 },
 "nbformat": 4,
 "nbformat_minor": 5
}
