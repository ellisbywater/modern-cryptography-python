{
 "cells": [
  {
   "cell_type": "markdown",
   "source": [
    "# Public Key Cryptography\n",
    "\n",
    "### Problems with Symmetric Key Cryptography (Private Key Cryptography)\n",
    "\n",
    "* How do you share the key?\n",
    "* How do you know the key is not compromised?\n",
    "* Lack of authentication\n",
    "* Lack of non-repudiation\n",
    "* If you want to communicate with multiple people, you need to share the key with each of them\n",
    "* If there are $n$ people, you need to share $n(n-1)/2$ keys\n",
    "* The number of keys grows exponentially with the number of people $O(n^2)$\n",
    "\n",
    "### Public Key Cryptography (Asymmetric Key Cryptography)\n",
    "\n",
    "* Each person has a pair of keys: a public key and a private key\n",
    "* The public key is shared with everyone\n",
    "* The private key is kept secret\n",
    "* The public key is used to encrypt the message\n",
    "* The private key is used to decrypt the message\n",
    "* Authentication is achieved by signing the message with the private key\n",
    "* Non-repudiation is achieved by signing the message with the private key\n",
    "* The number of keys grows linearly with the number of people $O(n)$"
   ],
   "metadata": {
    "collapsed": false
   },
   "id": "93c0acd3abbd3836"
  },
  {
   "cell_type": "code",
   "outputs": [],
   "source": [],
   "metadata": {
    "collapsed": false
   },
   "id": "280cc89705622fbc"
  }
 ],
 "metadata": {
  "kernelspec": {
   "display_name": "Python 3",
   "language": "python",
   "name": "python3"
  },
  "language_info": {
   "codemirror_mode": {
    "name": "ipython",
    "version": 2
   },
   "file_extension": ".py",
   "mimetype": "text/x-python",
   "name": "python",
   "nbconvert_exporter": "python",
   "pygments_lexer": "ipython2",
   "version": "2.7.6"
  }
 },
 "nbformat": 4,
 "nbformat_minor": 5
}
