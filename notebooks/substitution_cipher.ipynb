{
 "cells": [
  {
   "cell_type": "markdown",
   "source": [
    "# Substitution Cipher\n",
    "\n",
    "An alphabetic substitution cipher has 26! = 403291461126605635584000000 possible permutations and keys.\n",
    "\n",
    "It is 88 bit security."
   ],
   "metadata": {
    "collapsed": false
   },
   "id": "f42370765ba73400"
  },
  {
   "cell_type": "markdown",
   "source": [],
   "metadata": {
    "collapsed": false
   },
   "id": "8afbbef4909fb1d2"
  },
  {
   "cell_type": "code",
   "outputs": [
    {
     "name": "stdout",
     "output_type": "stream",
     "text": [
      "{'A': 'F', 'B': 'G', 'C': 'R', 'D': 'Z', 'E': 'J', 'F': 'H', 'G': 'E', 'H': 'U', 'I': 'B', 'J': 'Q', 'K': 'T', 'L': 'L', 'M': 'A', 'N': 'Y', 'O': 'K', 'P': 'P', 'Q': 'W', 'R': 'S', 'S': 'N', 'T': 'X', 'U': 'O', 'V': 'C', 'W': 'V', 'X': 'I', 'Y': 'D', 'Z': 'M'}\n"
     ]
    }
   ],
   "source": [
    "import random\n",
    "\n",
    "def generate_key() -> dict:\n",
    "    letters: str = 'ABCDEFGHIJKLMNOPQRSTUVWXYZ'\n",
    "    cletters: [str] = list(letters)\n",
    "    key: dict = {}\n",
    "    for c in letters:\n",
    "        key[c] = cletters.pop(random.randint(0, len(cletters)-1))\n",
    "    return key\n",
    "print(generate_key()) "
   ],
   "metadata": {
    "collapsed": false,
    "ExecuteTime": {
     "end_time": "2024-01-07T00:37:04.471265Z",
     "start_time": "2024-01-07T00:37:04.466545Z"
    }
   },
   "id": "a530966a783b8033",
   "execution_count": 24
  },
  {
   "cell_type": "code",
   "outputs": [
    {
     "name": "stdout",
     "output_type": "stream",
     "text": [
      "MGA HNR HIRWGBR\n"
     ]
    }
   ],
   "source": [
    "# Encrypt Message\n",
    "\n",
    "def encrypt(key: dict, message: str) -> str:\n",
    "    msg: str = message.upper()\n",
    "    cipher: str = \"\"\n",
    "    for c in msg:\n",
    "        if c in key:\n",
    "            cipher += key[c]\n",
    "        else:\n",
    "            cipher += c\n",
    "    return cipher\n",
    "\n",
    "key = generate_key()\n",
    "secret_message = \"You are awesome\" \n",
    "cipher = encrypt(key, secret_message)\n",
    "print(cipher)"
   ],
   "metadata": {
    "collapsed": false,
    "ExecuteTime": {
     "end_time": "2024-01-07T00:42:28.030367Z",
     "start_time": "2024-01-07T00:42:28.028360Z"
    }
   },
   "id": "8f6cc3ccd55dea04",
   "execution_count": 25
  }
 ],
 "metadata": {
  "kernelspec": {
   "display_name": "Python 3",
   "language": "python",
   "name": "python3"
  },
  "language_info": {
   "codemirror_mode": {
    "name": "ipython",
    "version": 2
   },
   "file_extension": ".py",
   "mimetype": "text/x-python",
   "name": "python",
   "nbconvert_exporter": "python",
   "pygments_lexer": "ipython2",
   "version": "2.7.6"
  }
 },
 "nbformat": 4,
 "nbformat_minor": 5
}
